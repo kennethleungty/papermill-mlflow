{
 "cells": [
  {
   "cell_type": "code",
   "execution_count": 3,
   "metadata": {},
   "outputs": [],
   "source": [
    "import papermill as pm\n",
    "from logger import logger"
   ]
  },
  {
   "cell_type": "markdown",
   "metadata": {},
   "source": [
    "### Iterate through indices and execute each notebook"
   ]
  },
  {
   "cell_type": "code",
   "execution_count": null,
   "metadata": {},
   "outputs": [],
   "source": [
    "for index in ['SNP', 'GOLD', 'SSE', 'HANGSENG', 'NIKKEI']:\n",
    "    logger.info('Running notebook for: {}'.format(index))\n",
    "    pm.execute_notebook(input_path='basic.ipynb', \n",
    "                        output_path='../artifact_dir/notebooks/basic_{}.ipynb'.format(index),\n",
    "                        parameters={'INDEX': index})"
   ]
  },
  {
   "cell_type": "code",
   "execution_count": null,
   "metadata": {},
   "outputs": [],
   "source": []
  }
 ],
 "metadata": {
  "kernelspec": {
   "display_name": "papermill-mlflow",
   "language": "python",
   "name": "papermill-mlflow"
  },
  "language_info": {
   "codemirror_mode": {
    "name": "ipython",
    "version": 3
   },
   "file_extension": ".py",
   "mimetype": "text/x-python",
   "name": "python",
   "nbconvert_exporter": "python",
   "pygments_lexer": "ipython3",
   "version": "3.8.3"
  }
 },
 "nbformat": 4,
 "nbformat_minor": 4
}
